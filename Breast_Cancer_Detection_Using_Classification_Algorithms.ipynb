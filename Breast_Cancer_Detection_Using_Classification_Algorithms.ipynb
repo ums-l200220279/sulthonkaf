{
  "nbformat": 4,
  "nbformat_minor": 0,
  "metadata": {
    "colab": {
      "provenance": [],
      "authorship_tag": "ABX9TyOmAV5NMCr4jpOzhJmhm9TM",
      "include_colab_link": true
    },
    "kernelspec": {
      "name": "python3",
      "display_name": "Python 3"
    },
    "language_info": {
      "name": "python"
    }
  },
  "cells": [
    {
      "cell_type": "markdown",
      "metadata": {
        "id": "view-in-github",
        "colab_type": "text"
      },
      "source": [
        "<a href=\"https://colab.research.google.com/github/ums-l200220279/sulthonkaf/blob/main/Breast_Cancer_Detection_Using_Classification_Algorithms.ipynb\" target=\"_parent\"><img src=\"https://colab.research.google.com/assets/colab-badge.svg\" alt=\"Open In Colab\"/></a>"
      ]
    },
    {
      "cell_type": "markdown",
      "source": [
        "1. Import Library\n",
        "Pastikan Anda mengimpor semua library yang diperlukan."
      ],
      "metadata": {
        "id": "jFHxy4OWni2S"
      }
    },
    {
      "cell_type": "code",
      "execution_count": null,
      "metadata": {
        "id": "PXXdWr0cnh5k"
      },
      "outputs": [],
      "source": [
        "import pandas as pd\n",
        "import numpy as np\n",
        "import random\n",
        "import seaborn as sns\n",
        "import matplotlib.pyplot as plt\n",
        "from sklearn.model_selection import train_test_split\n",
        "from sklearn.preprocessing import StandardScaler, MinMaxScaler\n",
        "from sklearn.metrics import accuracy_score, precision_score, recall_score, f1_score\n",
        "from sklearn.neighbors import KNeighborsClassifier\n",
        "from sklearn.svm import SVC\n",
        "from sklearn.linear_model import LogisticRegression\n",
        "from sklearn.tree import DecisionTreeClassifier\n",
        "from sklearn.ensemble import RandomForestClassifier\n"
      ]
    },
    {
      "cell_type": "markdown",
      "source": [
        "2. Memuat dan Mengeksplorasi Data\n",
        "Sama seperti sebelumnya, muat data dan eksplorasi struktur dataset."
      ],
      "metadata": {
        "id": "knhOgqh0noPO"
      }
    },
    {
      "cell_type": "code",
      "source": [
        "# Memuat data\n",
        "url = \"https://archive.ics.uci.edu/ml/machine-learning-databases/08147/breast-cancer-wisconsin-data.csv\"\n",
        "data = pd.read_csv(url)\n",
        "\n",
        "# Menampilkan beberapa baris pertama dari data untuk pemahaman awal\n",
        "print(data.head())\n",
        "\n",
        "# Menampilkan informasi umum tentang dataset (jumlah fitur, jenis data, nilai yang hilang)\n",
        "print(data.info())\n",
        "\n",
        "# Menampilkan statistik dasar untuk fitur numerik\n",
        "print(data.describe())\n",
        "\n",
        "# Memeriksa nilai yang hilang di setiap kolom\n",
        "print(data.isnull().sum())"
      ],
      "metadata": {
        "id": "NvDStsmUnqZG"
      },
      "execution_count": null,
      "outputs": []
    },
    {
      "cell_type": "markdown",
      "source": [
        "3. Pra-Pemrosesan Data\n",
        "Jika ada nilai yang hilang, kita akan mengisinya dengan mean atau menghapusnya jika perlu. Kita juga akan membagi data menjadi latih dan uji serta menstandarisasi data."
      ],
      "metadata": {
        "id": "xURdJFCCnuhB"
      }
    },
    {
      "cell_type": "code",
      "source": [
        "# Penanganan nilai yang hilang (jika ada)\n",
        "data = data.fillna(data.mean())  # atau data = data.dropna()\n",
        "\n",
        "# Memisahkan fitur dan label\n",
        "X = data.drop('label', axis=1)\n",
        "y = data['label']\n",
        "\n",
        "# Pembagian data menjadi data latih dan uji (80% latih, 20% uji)\n",
        "X_train, X_test, y_train, y_test = train_test_split(X, y, test_size=0.2, random_state=42)\n",
        "\n",
        "# Standarisasi fitur numerik\n",
        "scaler = StandardScaler()\n",
        "X_train_scaled = scaler.fit_transform(X_train)\n",
        "X_test_scaled = scaler.transform(X_test)\n"
      ],
      "metadata": {
        "id": "pi1xLI7joE9o"
      },
      "execution_count": null,
      "outputs": []
    },
    {
      "cell_type": "markdown",
      "source": [
        "4. Implementasi 5 Model Pembelajaran Mesin\n",
        "Kita akan menggunakan lima model yang berbeda: KNN, SVM, Logistic Regression, Decision Tree, dan Random Forest."
      ],
      "metadata": {
        "id": "py_tbXiWnxXe"
      }
    },
    {
      "cell_type": "code",
      "source": [
        "# 1. K-Nearest Neighbors\n",
        "knn_model = KNeighborsClassifier(n_neighbors=3)\n",
        "knn_model.fit(X_train_scaled, y_train)\n",
        "\n",
        "# 2. Support Vector Machine (SVM)\n",
        "svm_model = SVC(kernel='linear')\n",
        "svm_model.fit(X_train_scaled, y_train)\n",
        "\n",
        "# 3. Logistic Regression\n",
        "logreg_model = LogisticRegression()\n",
        "logreg_model.fit(X_train_scaled, y_train)\n",
        "\n",
        "# 4. Decision Tree Classifier\n",
        "dt_model = DecisionTreeClassifier(random_state=42)\n",
        "dt_model.fit(X_train_scaled, y_train)\n",
        "\n",
        "# 5. Random Forest Classifier\n",
        "rf_model = RandomForestClassifier(n_estimators=100, random_state=42)\n",
        "rf_model.fit(X_train_scaled, y_train)\n"
      ],
      "metadata": {
        "id": "YDdrXAGYoIrG"
      },
      "execution_count": null,
      "outputs": []
    },
    {
      "cell_type": "markdown",
      "source": [
        "5. Evaluasi dan Analisis Model\n",
        "Setelah model dilatih, kita akan mengevaluasi kinerja setiap model menggunakan metrik accuracy, precision, recall, dan F1-score."
      ],
      "metadata": {
        "id": "HV33PR_LnzrG"
      }
    },
    {
      "cell_type": "code",
      "source": [
        "# Prediksi menggunakan model KNN\n",
        "knn_predictions = knn_model.predict(X_test_scaled)\n",
        "\n",
        "# Prediksi menggunakan model SVM\n",
        "svm_predictions = svm_model.predict(X_test_scaled)\n",
        "\n",
        "# Prediksi menggunakan model Logistic Regression\n",
        "logreg_predictions = logreg_model.predict(X_test_scaled)\n",
        "\n",
        "# Prediksi menggunakan model Decision Tree\n",
        "dt_predictions = dt_model.predict(X_test_scaled)\n",
        "\n",
        "# Prediksi menggunakan model Random Forest\n",
        "rf_predictions = rf_model.predict(X_test_scaled)\n",
        "\n",
        "# Evaluasi untuk setiap model\n",
        "models = {\n",
        "    \"KNN\": knn_predictions,\n",
        "    \"SVM\": svm_predictions,\n",
        "    \"Logistic Regression\": logreg_predictions,\n",
        "    \"Decision Tree\": dt_predictions,\n",
        "    \"Random Forest\": rf_predictions\n",
        "}\n"
      ],
      "metadata": {
        "id": "Z0hIDeoOoL1I"
      },
      "execution_count": null,
      "outputs": []
    },
    {
      "cell_type": "markdown",
      "source": [
        "6. Analisis Perbandingan Model\n",
        "Setelah mendapatkan hasil evaluasi dari masing-masing model, Anda dapat membandingkan hasilnya dan memberikan analisis."
      ],
      "metadata": {
        "id": "A4lKHXz8n2LO"
      }
    },
    {
      "cell_type": "code",
      "source": [
        "# Menampilkan hasil evaluasi\n",
        "for model_name, predictions in models.items():\n",
        "    print(f\"Evaluasi Model {model_name}:\")\n",
        "    print(\"Accuracy:\", accuracy_score(y_test, predictions))\n",
        "    print(\"Precision:\", precision_score(y_test, predictions, average='binary'))\n",
        "    print(\"Recall:\", recall_score(y_test, predictions, average='binary'))\n",
        "    print(\"F1-Score:\", f1_score(y_test, predictions, average='binary'))\n",
        "    print(\"-\" * 40)\n"
      ],
      "metadata": {
        "id": "KpcWaR-moPa-"
      },
      "execution_count": null,
      "outputs": []
    }
  ]
}